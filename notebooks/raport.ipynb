{
 "cells": [
  {
   "cell_type": "markdown",
   "metadata": {},
   "source": [
    "# Import necessary libraries"
   ]
  },
  {
   "cell_type": "code",
   "execution_count": null,
   "metadata": {},
   "outputs": [],
   "source": [
    "import os\n",
    "from transformers import AutoTokenizer, AutoModelForCausalLM\n",
    "from utils.extraction import extract_text_from_pdf, extract_text_from_docx\n",
    "from models.API import process_resume\n",
    "from huggingface_hub import login\n",
    "from dotenv import load_dotenv\n",
    "from models.API import process_resume\n",
    "from utils.logging_config import setup_logging"
   ]
  },
  {
   "cell_type": "markdown",
   "metadata": {},
   "source": [
    "# Setup logging"
   ]
  },
  {
   "cell_type": "code",
   "execution_count": null,
   "metadata": {},
   "outputs": [],
   "source": [
    "logger = setup_logging()\n"
   ]
  },
  {
   "cell_type": "markdown",
   "metadata": {},
   "source": [
    "# Load environment variables"
   ]
  },
  {
   "cell_type": "code",
   "execution_count": null,
   "metadata": {},
   "outputs": [],
   "source": [
    "load_dotenv()\n",
    "TOKEN = os.getenv(\"HF_TOKEN\")\n",
    "if not TOKEN:\n",
    "    logger.error(\"Hugging Face token not found in environment variables\")\n",
    "else:\n",
    "    login(token=TOKEN, add_to_git_credential=True)\n",
    "    logger.info(\"Logged into Hugging Face Hub\")\n"
   ]
  },
  {
   "cell_type": "markdown",
   "metadata": {},
   "source": [
    "# Example usage"
   ]
  },
  {
   "cell_type": "code",
   "execution_count": null,
   "metadata": {},
   "outputs": [],
   "source": [
    "file_path = \"data/data_raw/1.docx\"\n",
    "model_name = AutoModelForCausalLM.from_pretrained(\"google/gemma-2-9b\")\n",
    "tokenizer = AutoTokenizer.from_pretrained(\"google/gemma-2-9b\")\n",
    "text = extract_text_from_docx(file_path)\n",
    "respond = process_resume(text, model_name, tokenizer)\n",
    "print(respond)"
   ]
  }
 ],
 "metadata": {
  "kernelspec": {
   "display_name": "venv",
   "language": "python",
   "name": "python3"
  },
  "language_info": {
   "name": "python",
   "version": "3.8.19"
  }
 },
 "nbformat": 4,
 "nbformat_minor": 2
}
